{
 "cells": [
  {
   "cell_type": "markdown",
   "id": "74cc2de6",
   "metadata": {},
   "source": [
    "<table style=\"width:100%; border-collapse: collapse;\">\n",
    "  <tr>\n",
    "    <td style=\"width:20%; vertical-align:middle;\">\n",
    "      <img src=\"LogoUVG.png\" width=\"400\"/>\n",
    "    </td>\n",
    "    <td style=\"text-align:left; vertical-align:middle;\">\n",
    "      <h2 style=\"margin-bottom: 0;\">Universidad del Valle de Guatemala - UVG</h2>\n",
    "      <h3 style=\"margin-top: 0;\">Facultad de Ingeniería - Computación</h3>\n",
    "      <p style=\"font-size: 16px; margin-bottom: 0; margin-top: -20px\">\n",
    "        <strong>Curso:</strong> CC3104 - Aprendizaje por Refuerzo \n",
    "        <strong>Sección:</strong> 10\n",
    "      </p>\n",
    "      <p style=\"font-size: 16px; margin: 0;\"><strong>Laboratorio 8:</strong> Deep Reinforcement Learning</p>\n",
    "      <br>\n",
    "      <p style=\"font-size: 15px; margin: 0;\"><strong>Autores:</strong></p>\n",
    "      <ul style=\"margin-top: 5px; padding-left: 20px; font-size: 15px;\">\n",
    "        <li>Diego Alexander Hernández Silvestre - <strong>21270</strong></li>\n",
    "        <li>Linda Inés Jiménez Vides - <strong>21169</strong></li>\n",
    "        <li>Mario Antonio Guerra Morales - <strong>21008</strong></li>\n",
    "      </ul>\n",
    "    </td>\n",
    "  </tr>\n",
    "</table>"
   ]
  },
  {
   "cell_type": "markdown",
   "id": "9dbc08b8",
   "metadata": {},
   "source": [
    "Repositorio: https://github.com/LINDAINES213/Lab8-RL.git"
   ]
  },
  {
   "cell_type": "markdown",
   "id": "5c349fc5",
   "metadata": {},
   "source": [
    "Librerías"
   ]
  },
  {
   "cell_type": "code",
   "execution_count": 8,
   "id": "244b900b",
   "metadata": {},
   "outputs": [
    {
     "data": {
      "text/plain": [
       "<torch._C.Generator at 0x1a1fe6ab610>"
      ]
     },
     "execution_count": 8,
     "metadata": {},
     "output_type": "execute_result"
    }
   ],
   "source": [
    "import math\n",
    "import random\n",
    "import collections\n",
    "import time\n",
    "from collections import deque\n",
    "from typing import Tuple\n",
    "import numpy as np\n",
    "import torch\n",
    "import torch.nn as nn\n",
    "import torch.optim as optim\n",
    "import gymnasium as gym\n",
    "import matplotlib.pyplot as plt\n",
    "\n",
    "SEED = 42\n",
    "random.seed(SEED); np.random.seed(SEED); torch.manual_seed(SEED)"
   ]
  },
  {
   "cell_type": "markdown",
   "id": "3e6539c3",
   "metadata": {},
   "source": [
    "## Inciso 1 — Ambiente - CartPole-v1"
   ]
  },
  {
   "cell_type": "code",
   "execution_count": 9,
   "id": "e1ff8cd7",
   "metadata": {},
   "outputs": [
    {
     "name": "stdout",
     "output_type": "stream",
     "text": [
      "Ambiente: CartPole-v1 — estado=4, acciones=2\n"
     ]
    }
   ],
   "source": [
    "ENV_ID = \"CartPole-v1\"\n",
    "RENDER_DURING_TRAINING = False\n",
    "\n",
    "env = gym.make(ENV_ID, render_mode=\"human\") if RENDER_DURING_TRAINING else gym.make(ENV_ID)\n",
    "env.reset(seed=SEED)\n",
    "obsDim = env.observation_space.shape[0]\n",
    "nActions = env.action_space.n\n",
    "print(f\"Ambiente: {ENV_ID} — estado={obsDim}, acciones={nActions}\")"
   ]
  },
  {
   "cell_type": "markdown",
   "id": "affe6da1",
   "metadata": {},
   "source": [
    "## Inciso 2 — Algoritmo DQN"
   ]
  },
  {
   "cell_type": "code",
   "execution_count": 10,
   "id": "ed4c1ba0",
   "metadata": {
    "lines_to_next_cell": 1
   },
   "outputs": [],
   "source": [
    "GAMMA = 0.99\n",
    "LR = 0.0001\n",
    "BATCH_SIZE = 64\n",
    "BUFFER_CAPACITY = 10_000\n",
    "TARGET_UPDATE_FREQ = 1000\n",
    "\n",
    "EPS_START = 1.0\n",
    "EPS_END = 0.01\n",
    "EPS_DECAY_STEPS = 20_000\n",
    "\n",
    "MAX_EPISODES = 500\n",
    "MAX_STEPS_PER_EPISODE = 1000\n",
    "\n",
    "class DQN(nn.Module):\n",
    "    def __init__(self, inputDim: int, outputDim: int, hidden: int = 128):\n",
    "        super().__init__()\n",
    "        self.net = nn.Sequential(\n",
    "            nn.Linear(inputDim, hidden),\n",
    "            nn.ReLU(),\n",
    "            nn.Linear(hidden, hidden),\n",
    "            nn.ReLU(),\n",
    "            nn.Linear(hidden, outputDim),\n",
    "        )\n",
    "    def forward(self, x: torch.Tensor) -> torch.Tensor:\n",
    "        return self.net(x)\n",
    "\n",
    "policyNet = DQN(obsDim, nActions)\n",
    "targetNet = DQN(obsDim, nActions)\n",
    "targetNet.load_state_dict(policyNet.state_dict())\n",
    "targetNet.eval()\n",
    "\n",
    "optimizer = optim.Adam(policyNet.parameters(), lr=LR)\n",
    "mseLoss = nn.MSELoss()\n",
    "\n",
    "def epsilonByStep(step: int) -> float:\n",
    "    frac = min(1.0, step / EPS_DECAY_STEPS)\n",
    "    return EPS_START + (EPS_END - EPS_START) * frac\n",
    "\n",
    "def selectAction(state: np.ndarray, globalStep: int) -> Tuple[int, float]:\n",
    "    eps = epsilonByStep(globalStep)\n",
    "    if random.random() < eps:\n",
    "        return env.action_space.sample(), eps\n",
    "    with torch.no_grad():\n",
    "        s = torch.tensor(state, dtype=torch.float32).unsqueeze(0)\n",
    "        q = policyNet(s)\n",
    "        a = int(torch.argmax(q, dim=1).item())\n",
    "        return a, eps\n",
    "\n",
    "Transition = collections.namedtuple(\"Transition\", [\"state\",\"action\",\"reward\",\"nextState\",\"done\"])\n",
    "\n",
    "class ReplayBuffer:\n",
    "    def __init__(self, capacity: int):\n",
    "        self.buffer = collections.deque(maxlen=capacity)\n",
    "    def push(self, state, action, reward, nextState, done):\n",
    "        self.buffer.append(Transition(state, action, reward, nextState, done))\n",
    "    def sample(self, batchSize: int):\n",
    "        batch = random.sample(self.buffer, batchSize)\n",
    "        states = torch.tensor(np.array([t.state for t in batch]), dtype=torch.float32)\n",
    "        actions = torch.tensor([t.action for t in batch], dtype=torch.int64).unsqueeze(-1)\n",
    "        rewards = torch.tensor([t.reward for t in batch], dtype=torch.float32).unsqueeze(-1)\n",
    "        nextStates = torch.tensor(np.array([t.nextState for t in batch]), dtype=torch.float32)\n",
    "        dones = torch.tensor([t.done for t in batch], dtype=torch.float32).unsqueeze(-1)\n",
    "        return states, actions, rewards, nextStates, dones\n",
    "    def __len__(self):\n",
    "        return len(self.buffer)\n",
    "\n",
    "replayBuffer = ReplayBuffer(BUFFER_CAPACITY)\n",
    "\n",
    "def dqnUpdate() -> float:\n",
    "    if len(replayBuffer) < BATCH_SIZE:\n",
    "        return 0.0\n",
    "    states, actions, rewards, nextStates, dones = replayBuffer.sample(BATCH_SIZE)\n",
    "    qValues = policyNet(states).gather(1, actions)\n",
    "    with torch.no_grad():\n",
    "        maxNextQ = targetNet(nextStates).max(dim=1, keepdim=True)[0]\n",
    "        target = rewards + (1.0 - dones) * GAMMA * maxNextQ\n",
    "    loss = mseLoss(qValues, target)\n",
    "    optimizer.zero_grad()\n",
    "    loss.backward()\n",
    "    torch.nn.utils.clip_grad_norm_(policyNet.parameters(), max_norm=10.0)\n",
    "    optimizer.step()\n",
    "    return float(loss.item())"
   ]
  },
  {
   "cell_type": "markdown",
   "id": "287b5f0d",
   "metadata": {},
   "source": [
    "## Inciso 3 — Consideraciones técnicas\n",
    "En esta implementación se usaron tres elementos importantes para mejorar el entrenamiento. El primero es la target network, una copia de la red principal que se actualiza cada cierto número de pasos para evitar que los valores objetivo cambien demasiado rápido y el aprendizaje se vuelva inestable. También se aplicó gradient clipping para limitar el valor máximo de los gradientes y evitar explosiones que podrían afectar la convergencia. Por último, se usó una política ε-greedy con decaimiento, que empieza explorando mucho el entorno (ε alto) y va reduciendo el valor de ε con el tiempo para aprovechar lo aprendido. Estos tres aspectos ayudan a que el entrenamiento sea más estable y efectivo.."
   ]
  },
  {
   "cell_type": "markdown",
   "id": "cc8cb214",
   "metadata": {},
   "source": [
    "## Inciso 4 — Entrenamiento"
   ]
  },
  {
   "cell_type": "code",
   "execution_count": 11,
   "id": "b3d0c205",
   "metadata": {},
   "outputs": [
    {
     "name": "stdout",
     "output_type": "stream",
     "text": [
      "Ep    1 | R:   35.0 | ε: 0.998 | avg100:   35.0 | buffer:    35 | step: 35\n",
      "Ep   10 | R:   13.0 | ε: 0.991 | avg100:   18.9 | buffer:   189 | step: 189\n",
      "Ep   20 | R:   15.0 | ε: 0.983 | avg100:   17.6 | buffer:   352 | step: 352\n",
      "Ep   30 | R:   19.0 | ε: 0.972 | avg100:   18.7 | buffer:   562 | step: 562\n",
      "Ep   40 | R:    9.0 | ε: 0.962 | avg100:   19.4 | buffer:   775 | step: 775\n",
      "Ep   50 | R:   36.0 | ε: 0.951 | avg100:   19.9 | buffer:   993 | step: 993\n",
      "Ep   60 | R:   35.0 | ε: 0.941 | avg100:   19.9 | buffer:  1194 | step: 1194\n",
      "Ep   70 | R:   22.0 | ε: 0.932 | avg100:   19.7 | buffer:  1379 | step: 1379\n",
      "Ep   80 | R:   14.0 | ε: 0.920 | avg100:   20.2 | buffer:  1616 | step: 1616\n",
      "Ep   90 | R:   19.0 | ε: 0.910 | avg100:   20.2 | buffer:  1814 | step: 1814\n",
      "Ep  100 | R:   24.0 | ε: 0.899 | avg100:   20.4 | buffer:  2035 | step: 2035\n",
      "Ep  110 | R:   46.0 | ε: 0.886 | avg100:   21.2 | buffer:  2313 | step: 2313\n",
      "Ep  120 | R:   34.0 | ε: 0.869 | avg100:   23.1 | buffer:  2657 | step: 2657\n",
      "Ep  130 | R:   24.0 | ε: 0.859 | avg100:   22.8 | buffer:  2841 | step: 2841\n",
      "Ep  140 | R:   11.0 | ε: 0.846 | avg100:   23.3 | buffer:  3107 | step: 3107\n",
      "Ep  150 | R:   28.0 | ε: 0.830 | avg100:   24.5 | buffer:  3442 | step: 3442\n",
      "Ep  160 | R:   17.0 | ε: 0.817 | avg100:   25.0 | buffer:  3695 | step: 3695\n",
      "Ep  170 | R:   20.0 | ε: 0.805 | avg100:   25.7 | buffer:  3945 | step: 3945\n",
      "Ep  180 | R:   53.0 | ε: 0.789 | avg100:   26.4 | buffer:  4254 | step: 4254\n",
      "Ep  190 | R:   17.0 | ε: 0.770 | avg100:   28.4 | buffer:  4657 | step: 4657\n",
      "Ep  200 | R:   36.0 | ε: 0.752 | avg100:   29.8 | buffer:  5012 | step: 5012\n",
      "Ep  210 | R:   42.0 | ε: 0.731 | avg100:   31.3 | buffer:  5440 | step: 5440\n",
      "Ep  220 | R:   18.0 | ε: 0.712 | avg100:   31.7 | buffer:  5827 | step: 5827\n",
      "Ep  230 | R:  111.0 | ε: 0.685 | avg100:   35.2 | buffer:  6366 | step: 6366\n",
      "Ep  240 | R:   32.0 | ε: 0.664 | avg100:   36.9 | buffer:  6792 | step: 6792\n",
      "Ep  250 | R:   21.0 | ε: 0.638 | avg100:   38.8 | buffer:  7318 | step: 7318\n",
      "Ep  260 | R:   12.0 | ε: 0.616 | avg100:   40.7 | buffer:  7765 | step: 7765\n",
      "Ep  270 | R:   69.0 | ε: 0.582 | avg100:   45.1 | buffer:  8454 | step: 8454\n",
      "Ep  280 | R:   53.0 | ε: 0.535 | avg100:   51.5 | buffer:  9404 | step: 9404\n",
      "Ep  290 | R:   57.0 | ε: 0.492 | avg100:   56.2 | buffer: 10000 | step: 10273\n",
      "Ep  300 | R:  123.0 | ε: 0.445 | avg100:   61.9 | buffer: 10000 | step: 11206\n",
      "Ep  310 | R:  222.0 | ε: 0.355 | avg100:   75.9 | buffer: 10000 | step: 13032\n",
      "Ep  320 | R:  177.0 | ε: 0.268 | avg100:   89.6 | buffer: 10000 | step: 14786\n",
      "Ep  330 | R:  225.0 | ε: 0.150 | avg100:  108.0 | buffer: 10000 | step: 17168\n",
      "Ep  340 | R:  322.0 | ε: 0.039 | avg100:  126.2 | buffer: 10000 | step: 19407\n",
      "Ep  350 | R:  272.0 | ε: 0.010 | avg100:  146.7 | buffer: 10000 | step: 21984\n",
      "Ep  360 | R:  201.0 | ε: 0.010 | avg100:  169.3 | buffer: 10000 | step: 24700\n",
      "Ep  370 | R:  213.0 | ε: 0.010 | avg100:  185.3 | buffer: 10000 | step: 26982\n",
      "Ep  380 | R:  253.0 | ε: 0.010 | avg100:  196.6 | buffer: 10000 | step: 29063\n",
      "Ep  390 | R:  243.0 | ε: 0.010 | avg100:  210.6 | buffer: 10000 | step: 31336\n",
      "Ep  400 | R:  200.0 | ε: 0.010 | avg100:  222.9 | buffer: 10000 | step: 33497\n",
      "Ep  410 | R:  207.0 | ε: 0.010 | avg100:  228.9 | buffer: 10000 | step: 35925\n",
      "Ep  420 | R:  326.0 | ε: 0.010 | avg100:  233.3 | buffer: 10000 | step: 38116\n",
      "Ep  430 | R:  301.0 | ε: 0.010 | avg100:  234.2 | buffer: 10000 | step: 40590\n",
      "Ep  440 | R:  414.0 | ε: 0.010 | avg100:  236.8 | buffer: 10000 | step: 43082\n",
      "Ep  450 | R:  232.0 | ε: 0.010 | avg100:  232.7 | buffer: 10000 | step: 45256\n",
      "Ep  460 | R:  189.0 | ε: 0.010 | avg100:  228.6 | buffer: 10000 | step: 47561\n",
      "Ep  470 | R:  160.0 | ε: 0.010 | avg100:  226.6 | buffer: 10000 | step: 49646\n",
      "Ep  480 | R:  187.0 | ε: 0.010 | avg100:  223.9 | buffer: 10000 | step: 51452\n",
      "Ep  490 | R:  146.0 | ε: 0.010 | avg100:  219.7 | buffer: 10000 | step: 53306\n",
      "Ep  500 | R:  174.0 | ε: 0.010 | avg100:  215.8 | buffer: 10000 | step: 55080\n",
      "Ep  510 | R:  157.0 | ε: 0.010 | avg100:  209.8 | buffer: 10000 | step: 56910\n",
      "Ep  520 | R:  182.0 | ε: 0.010 | avg100:  206.0 | buffer: 10000 | step: 58715\n",
      "Ep  530 | R:  210.0 | ε: 0.010 | avg100:  199.9 | buffer: 10000 | step: 60584\n",
      "Ep  540 | R:  143.0 | ε: 0.010 | avg100:  191.3 | buffer: 10000 | step: 62210\n",
      "Ep  550 | R:  140.0 | ε: 0.010 | avg100:  186.3 | buffer: 10000 | step: 63891\n",
      "Ep  560 | R:  181.0 | ε: 0.010 | avg100:  181.9 | buffer: 10000 | step: 65755\n",
      "Ep  570 | R:  150.0 | ε: 0.010 | avg100:  176.6 | buffer: 10000 | step: 67305\n",
      "Ep  580 | R:  138.0 | ε: 0.010 | avg100:  174.4 | buffer: 10000 | step: 68894\n",
      "Ep  590 | R:  142.0 | ε: 0.010 | avg100:  170.2 | buffer: 10000 | step: 70328\n",
      "Ep  600 | R:  147.0 | ε: 0.010 | avg100:  167.8 | buffer: 10000 | step: 71857\n",
      "\n",
      "Entrenamiento finalizado en 600 episodios, tiempo: 80.0s. Mejor avg100: 236.8\n"
     ]
    }
   ],
   "source": [
    "EPISODES_TO_TRAIN = 600\n",
    "SOLVED_SCORE = 475.0\n",
    "LOG_EVERY = 10\n",
    "\n",
    "rewardHistory, avg100History, epsHistory, lossHistory = [], [], [], []\n",
    "recentRewards = deque(maxlen=100)\n",
    "\n",
    "globalStep = 0\n",
    "bestAvg100 = -float(\"inf\")\n",
    "startTime = time.time()\n",
    "\n",
    "for ep in range(1, EPISODES_TO_TRAIN + 1):\n",
    "    state, _ = env.reset(seed=SEED + ep)\n",
    "    epReward = 0.0\n",
    "    epLosses = []\n",
    "    for t in range(MAX_STEPS_PER_EPISODE):\n",
    "        action, eps = selectAction(state, globalStep)\n",
    "        nextState, reward, terminated, truncated, _ = env.step(action)\n",
    "        done = terminated or truncated\n",
    "        replayBuffer.push(state, action, reward, nextState, done)\n",
    "        state = nextState\n",
    "        epReward += reward\n",
    "        globalStep += 1\n",
    "        loss = dqnUpdate()\n",
    "        if loss:\n",
    "            epLosses.append(loss)\n",
    "        if globalStep % TARGET_UPDATE_FREQ == 0:\n",
    "            targetNet.load_state_dict(policyNet.state_dict())\n",
    "        if done:\n",
    "            break\n",
    "    rewardHistory.append(epReward)\n",
    "    recentRewards.append(epReward)\n",
    "    avg100 = float(np.mean(recentRewards))\n",
    "    avg100History.append(avg100)\n",
    "    epsHistory.append(eps)\n",
    "    if epLosses:\n",
    "        lossHistory.append(np.mean(epLosses))\n",
    "    if avg100 > bestAvg100:\n",
    "        bestAvg100 = avg100\n",
    "    if ep % LOG_EVERY == 0 or ep == 1:\n",
    "        print(f\"Ep {ep:4d} | R: {epReward:6.1f} | ε: {eps:5.3f} | avg100: {avg100:6.1f} | buffer: {len(replayBuffer):5d} | step: {globalStep}\")\n",
    "    if bestAvg100 >= SOLVED_SCORE and len(recentRewards) == recentRewards.maxlen:\n",
    "        print(f\"\\n✅ Resuelto: avg100={bestAvg100:.1f} (≥ {SOLVED_SCORE}) en ep={ep}.\")\n",
    "        break\n",
    "\n",
    "elapsed = time.time() - startTime\n",
    "print(f\"\\nEntrenamiento finalizado en {ep} episodios, tiempo: {elapsed:.1f}s. Mejor avg100: {bestAvg100:.1f}\")"
   ]
  },
  {
   "cell_type": "markdown",
   "id": "e9ec76f7",
   "metadata": {},
   "source": [
    "## Inciso 5 — Visualización"
   ]
  },
  {
   "cell_type": "code",
   "execution_count": 12,
   "id": "3a473c37",
   "metadata": {},
   "outputs": [
    {
     "data": {
      "image/png": "[encoded data removed]",
      "text/plain": [
       "<Figure size 640x480 with 1 Axes>"
      ]
     },
     "metadata": {},
     "output_type": "display_data"
    }
   ],
   "source": [
    "plt.figure()\n",
    "plt.plot(rewardHistory, label=\"Recompensa por episodio\")\n",
    "plt.plot(avg100History, label=\"Media móvil (últimos 100)\")\n",
    "plt.title(\"Progreso de entrenamiento DQN\")\n",
    "plt.xlabel(\"Episodio\")\n",
    "plt.ylabel(\"Recompensa\")\n",
    "plt.legend()\n",
    "plt.show()"
   ]
  },
  {
   "cell_type": "markdown",
   "id": "4dc6a2ae",
   "metadata": {},
   "source": [
    "La gráfica muestra cómo el rendimiento del agente DQN mejora progresivamente a lo largo del entrenamiento. Al inicio, las recompensas son bajas por la alta exploración, pero alrededor del episodio 300 se observa un incremento notable, alcanzando cerca de 200 pasos en promedio. Después del episodio 400 aparecen oscilaciones y una ligera caída, señal de que el aprendizaje no fue completamente estable. Esto indica que el agente aprendió una política funcional, aunque aún lejos del óptimo (~475 pasos), posiblemente por la configuración actual de hiperparámetros. Ajustarlos podría mejorar la estabilidad y el rendimiento."
   ]
  },
  {
   "cell_type": "markdown",
   "id": "bc8e434f",
   "metadata": {},
   "source": [
    "## Inciso 6 — Evaluación (ε=0) y video"
   ]
  },
  {
   "cell_type": "code",
   "execution_count": 20,
   "id": "b0d1c7b2",
   "metadata": {},
   "outputs": [
    {
     "name": "stdout",
     "output_type": "stream",
     "text": [
      "✅ Modelo cargado para evaluación\n",
      "📊 Evaluación (ε=0):\n",
      "  Recompensas por episodio: [154.0, 160.0, 135.0, 173.0, 140.0, 163.0, 183.0, 145.0, 147.0, 138.0]\n",
      "  Promedio: 153.80\n",
      "  Mínimo:   135.00\n",
      "  Máximo:   183.00\n",
      "  Desv. Std: 15.04\n",
      "\n",
      "🎬 Ejecutando episodio con renderizado...\n",
      "✅ Episodio completado. Recompensa total: 185.0\n"
     ]
    }
   ],
   "source": [
    "torch.save(policyNet.state_dict(), \"dqn_cartpole.pt\")\n",
    "evalNet = DQN(obsDim, nActions)\n",
    "evalNet.load_state_dict(torch.load(\"dqn_cartpole.pt\", map_location=\"cpu\"))\n",
    "evalNet.eval()\n",
    "print(\"✅ Modelo cargado para evaluación\")\n",
    "\n",
    "def greedyAction(net: nn.Module, state: np.ndarray) -> int:\n",
    "    with torch.no_grad():\n",
    "        s = torch.tensor(state, dtype=torch.float32).unsqueeze(0)\n",
    "        return int(torch.argmax(net(s), dim=1).item())\n",
    "\n",
    "N_EVAL_EPISODES = 10\n",
    "evalEnv = gym.make(ENV_ID)\n",
    "rewardsEval = []\n",
    "for i in range(N_EVAL_EPISODES):\n",
    "    s, _ = evalEnv.reset(seed=SEED + 2000 + i)\n",
    "    done = False\n",
    "    epR = 0.0\n",
    "    while not done:\n",
    "        a = greedyAction(evalNet, s)\n",
    "        s, r, term, trun, _ = evalEnv.step(a)\n",
    "        epR += r\n",
    "        done = term or trun\n",
    "    rewardsEval.append(epR)\n",
    "evalEnv.close()\n",
    "\n",
    "print(\"📊 Evaluación (ε=0):\")\n",
    "print(\"  Recompensas por episodio:\", rewardsEval)\n",
    "print(f\"  Promedio: {np.mean(rewardsEval):.2f}\")\n",
    "print(f\"  Mínimo:   {np.min(rewardsEval):.2f}\")\n",
    "print(f\"  Máximo:   {np.max(rewardsEval):.2f}\")\n",
    "print(f\"  Desv. Std: {np.std(rewardsEval):.2f}\")\n",
    "\n",
    "renderEnv = gym.make(ENV_ID, render_mode=\"human\")\n",
    "s, _ = renderEnv.reset(seed=SEED + 999)\n",
    "done = False\n",
    "epR = 0.0\n",
    "print(\"\\n🎬 Ejecutando episodio con renderizado...\")\n",
    "while not done:\n",
    "    a = greedyAction(evalNet, s)\n",
    "    s, r, term, trun, _ = renderEnv.step(a)\n",
    "    epR += r\n",
    "    done = term or trun\n",
    "renderEnv.close()\n",
    "print(f\"✅ Episodio completado. Recompensa total: {epR}\")"
   ]
  },
  {
   "cell_type": "markdown",
   "id": "5f3a4061",
   "metadata": {},
   "source": [
    "# Discusión de resultados\n",
    "En la evaluación sin exploración (ε = 0), el agente alcanzó un promedio de 153.8 pasos por episodio, con un mínimo de 135, un máximo de 183 y una desviación estándar de 15.04. El episodio grabado llegó a 185 pasos, lo que evidencia que el agente aprendió una política capaz de mantener el poste en equilibrio durante un número considerable de pasos, superando ampliamente el comportamiento aleatorio. Sin embargo, el rendimiento aún está por debajo del nivel que se considera como entorno resuelto (≈475 pasos), lo que indica que la política no es completamente estable ni óptima.\n",
    "\n",
    "La variabilidad observada refleja que el aprendizaje no terminó de converger, algo común en implementaciones básicas de DQN. Ajustes en la tasa de aprendizaje, el tamaño del batch, el ritmo de decaimiento de ε o la incorporación de variantes como Double DQN podrían ayudar a mejorar el desempeño. Aun con estas limitaciones, los resultados muestran un progreso significativo respecto al inicio del entrenamiento y son coherentes con la tendencia observada en la gráfica, evidenciando que el agente logró aprender estrategias útiles dentro del entorno CartPole."
   ]
  }
 ],
 "metadata": {
  "jupytext": {
   "cell_metadata_filter": "-all",
   "main_language": "python",
   "notebook_metadata_filter": "-all"
  },
  "kernelspec": {
   "display_name": "venv (3.12.11)",
   "language": "python",
   "name": "python3"
  },
  "language_info": {
   "codemirror_mode": {
    "name": "ipython",
    "version": 3
   },
   "file_extension": ".py",
   "mimetype": "text/x-python",
   "name": "python",
   "nbconvert_exporter": "python",
   "pygments_lexer": "ipython3",
   "version": "3.12.11"
  }
 },
 "nbformat": 4,
 "nbformat_minor": 5
}
